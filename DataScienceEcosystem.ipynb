{
 "cells": [
  {
   "cell_type": "markdown",
   "id": "e974e26b-9073-4c3b-8a3d-eb6306a5a6ec",
   "metadata": {},
   "source": [
    "# Data Science Tools and Ecosystem"
   ]
  },
  {
   "cell_type": "markdown",
   "id": "3c5fd4d9-9a16-4dcd-bf38-fa35986c35c2",
   "metadata": {},
   "source": [
    "In this notebook, Data Science Tools and Ecosystem are summarized."
   ]
  },
  {
   "cell_type": "markdown",
   "id": "3c69ff2c-3234-4b63-9b35-4819bc2df470",
   "metadata": {},
   "source": [
    "Some of the popular languages that Data Scientists use are:\n",
    "1. Python\n",
    "2. R\n",
    "3. C\n",
    "4. Git"
   ]
  },
  {
   "cell_type": "markdown",
   "id": "1b401d51-e6d2-4a1a-8fdf-cd61a5f5fb2d",
   "metadata": {},
   "source": [
    "Some of the commonly used libraries used by Data Scientists include:\n",
    "1. pandas\n",
    "2. numpy\n",
    "3. matplotlib\n",
    "4. scikit-learn"
   ]
  },
  {
   "cell_type": "markdown",
   "id": "9b0fd26c-4b24-46b9-a7ea-f72292bbfba1",
   "metadata": {},
   "source": [
    "| Data Science Tools| \n",
    "|--------------|\n",
    "| Pandas       | \n",
    "| NumPy        | \n",
    "| Matplotlib   | \n",
    "| Scikit-learn | \n"
   ]
  },
  {
   "cell_type": "markdown",
   "id": "8c509b1a-82c5-4ae7-aaf3-b438d9271fc6",
   "metadata": {},
   "source": [
    "### Below are a few examples of evaluating arithmetic expressions in Python"
   ]
  },
  {
   "cell_type": "code",
   "execution_count": 1,
   "id": "35e34548-f1aa-4bf5-a935-7ff349f32600",
   "metadata": {},
   "outputs": [
    {
     "data": {
      "text/plain": [
       "17"
      ]
     },
     "execution_count": 1,
     "metadata": {},
     "output_type": "execute_result"
    }
   ],
   "source": [
    "# This a simple arithmetic expression to mutiply then add integers\n",
    "(3*4)+5"
   ]
  },
  {
   "cell_type": "code",
   "execution_count": 2,
   "id": "abdaa79c-98b3-42c7-96a5-f2eda56bb1f2",
   "metadata": {},
   "outputs": [
    {
     "data": {
      "text/plain": [
       "3.3333333333333335"
      ]
     },
     "execution_count": 2,
     "metadata": {},
     "output_type": "execute_result"
    }
   ],
   "source": [
    "# This will convert 200 minutes to hours by diving by 60\n",
    "200/60"
   ]
  },
  {
   "cell_type": "markdown",
   "id": "67b05b9d-d84c-4228-87d9-59444763a007",
   "metadata": {},
   "source": [
    "**Objectives:**\n",
    "- Arithmetic Operations\n",
    "- Creating a notebook\n",
    "- Creating Markdowns"
   ]
  },
  {
   "cell_type": "markdown",
   "id": "0110f668-3ea0-4a28-a816-55b68ef60495",
   "metadata": {},
   "source": [
    "## Author\n",
    "Kanishkar Venkatesan"
   ]
  }
 ],
 "metadata": {
  "kernelspec": {
   "display_name": "Python 3 (ipykernel)",
   "language": "python",
   "name": "python3"
  },
  "language_info": {
   "codemirror_mode": {
    "name": "ipython",
    "version": 3
   },
   "file_extension": ".py",
   "mimetype": "text/x-python",
   "name": "python",
   "nbconvert_exporter": "python",
   "pygments_lexer": "ipython3",
   "version": "3.12.8"
  }
 },
 "nbformat": 4,
 "nbformat_minor": 5
}
